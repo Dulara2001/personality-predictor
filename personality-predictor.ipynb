{
 "cells": [
  {
   "cell_type": "markdown",
   "id": "c066e8b3",
   "metadata": {},
   "source": [
    "### Import Libraries"
   ]
  },
  {
   "cell_type": "code",
   "execution_count": 20,
   "id": "daacf5dc",
   "metadata": {},
   "outputs": [],
   "source": [
    "import pandas as pd\n",
    "import numpy as np\n",
    "from sklearn.model_selection import train_test_split\n",
    "from sklearn.ensemble import RandomForestClassifier\n",
    "from sklearn.preprocessing import LabelEncoder, StandardScaler\n",
    "from sklearn.metrics import accuracy_score, classification_report, confusion_matrix\n",
    "import joblib\n",
    "import matplotlib.pyplot as plt\n",
    "import seaborn as sns\n",
    "import warnings\n",
    "warnings.filterwarnings('ignore')"
   ]
  },
  {
   "cell_type": "code",
   "execution_count": null,
   "id": "4db40b1e",
   "metadata": {},
   "outputs": [],
   "source": []
  },
  {
   "cell_type": "markdown",
   "id": "9fefac5f",
   "metadata": {},
   "source": [
    "### Load and Explore Your Dataset"
   ]
  },
  {
   "cell_type": "code",
   "execution_count": 22,
   "id": "d9ebebaf",
   "metadata": {},
   "outputs": [
    {
     "name": "stdout",
     "output_type": "stream",
     "text": [
      "Dataset shape: (2900, 8)\n",
      "\n",
      "Dataset info:\n",
      "<class 'pandas.core.frame.DataFrame'>\n",
      "RangeIndex: 2900 entries, 0 to 2899\n",
      "Data columns (total 8 columns):\n",
      " #   Column                     Non-Null Count  Dtype  \n",
      "---  ------                     --------------  -----  \n",
      " 0   Time_spent_Alone           2837 non-null   float64\n",
      " 1   Stage_fear                 2827 non-null   object \n",
      " 2   Social_event_attendance    2838 non-null   float64\n",
      " 3   Going_outside              2834 non-null   float64\n",
      " 4   Drained_after_socializing  2848 non-null   object \n",
      " 5   Friends_circle_size        2823 non-null   float64\n",
      " 6   Post_frequency             2835 non-null   float64\n",
      " 7   Personality                2900 non-null   object \n",
      "dtypes: float64(5), object(3)\n",
      "memory usage: 181.4+ KB\n",
      "None\n",
      "\n",
      "First 10 rows:\n",
      "   Time_spent_Alone Stage_fear  Social_event_attendance  Going_outside  \\\n",
      "0               4.0         No                      4.0            6.0   \n",
      "1               9.0        Yes                      0.0            0.0   \n",
      "2               9.0        Yes                      1.0            2.0   \n",
      "3               0.0         No                      6.0            7.0   \n",
      "4               3.0         No                      9.0            4.0   \n",
      "5               1.0         No                      7.0            5.0   \n",
      "6               4.0         No                      9.0            NaN   \n",
      "7               2.0         No                      8.0            4.0   \n",
      "8              10.0        Yes                      1.0            3.0   \n",
      "9               0.0         No                      8.0            6.0   \n",
      "\n",
      "  Drained_after_socializing  Friends_circle_size  Post_frequency Personality  \n",
      "0                        No                 13.0             5.0   Extrovert  \n",
      "1                       Yes                  0.0             3.0   Introvert  \n",
      "2                       Yes                  5.0             2.0   Introvert  \n",
      "3                        No                 14.0             8.0   Extrovert  \n",
      "4                        No                  8.0             5.0   Extrovert  \n",
      "5                        No                  6.0             6.0   Extrovert  \n",
      "6                        No                  7.0             7.0   Extrovert  \n",
      "7                        No                  7.0             8.0   Extrovert  \n",
      "8                       Yes                  0.0             3.0   Introvert  \n",
      "9                        No                 13.0             8.0   Extrovert  \n",
      "\n",
      "Missing values:\n",
      "Time_spent_Alone             63\n",
      "Stage_fear                   73\n",
      "Social_event_attendance      62\n",
      "Going_outside                66\n",
      "Drained_after_socializing    52\n",
      "Friends_circle_size          77\n",
      "Post_frequency               65\n",
      "Personality                   0\n",
      "dtype: int64\n",
      "\n",
      "Target distribution:\n",
      "Extrovert    1491\n",
      "Introvert    1409\n",
      "Name: Personality, dtype: int64\n"
     ]
    }
   ],
   "source": [
    "df = pd.read_csv('D:\\\\Decryptogen\\\\dataset\\\\personality_dataset.csv')\n",
    "print(f\"Dataset shape: {df.shape}\")\n",
    "print(\"\\nDataset info:\")\n",
    "print(df.info())\n",
    "print(\"\\nFirst 10 rows:\")\n",
    "print(df.head(10))\n",
    "print(\"\\nMissing values:\")\n",
    "print(df.isnull().sum())\n",
    "print(\"\\nTarget distribution:\")\n",
    "print(df['Personality'].value_counts())"
   ]
  },
  {
   "cell_type": "code",
   "execution_count": null,
   "id": "75b56437",
   "metadata": {},
   "outputs": [],
   "source": []
  },
  {
   "cell_type": "markdown",
   "id": "63183b42",
   "metadata": {},
   "source": [
    "### Data Preprocessing"
   ]
  },
  {
   "cell_type": "code",
   "execution_count": 23,
   "id": "bd1ce2ce",
   "metadata": {},
   "outputs": [
    {
     "name": "stdout",
     "output_type": "stream",
     "text": [
      "\n",
      "=== Data Preprocessing ===\n",
      "Handling missing values...\n",
      "Filled missing values in Time_spent_Alone with median: 4.0\n",
      "Filled missing values in Stage_fear with mode: No\n",
      "Filled missing values in Social_event_attendance with median: 3.0\n",
      "Filled missing values in Going_outside with median: 3.0\n",
      "Filled missing values in Drained_after_socializing with mode: No\n",
      "Filled missing values in Friends_circle_size with median: 5.0\n",
      "Filled missing values in Post_frequency with median: 3.0\n",
      "Categorical columns to encode: ['Stage_fear', 'Drained_after_socializing']\n",
      "Stage_fear mapping: {'No': 0, 'Yes': 1}\n",
      "Drained_after_socializing mapping: {'No': 0, 'Yes': 1}\n",
      "Target mapping: {'Extrovert': 0, 'Introvert': 1}\n",
      "\n",
      "Data after preprocessing:\n",
      "   Time_spent_Alone  Stage_fear  Social_event_attendance  Going_outside  \\\n",
      "0               4.0           0                      4.0            6.0   \n",
      "1               9.0           1                      0.0            0.0   \n",
      "2               9.0           1                      1.0            2.0   \n",
      "3               0.0           0                      6.0            7.0   \n",
      "4               3.0           0                      9.0            4.0   \n",
      "\n",
      "   Drained_after_socializing  Friends_circle_size  Post_frequency Personality  \\\n",
      "0                          0                 13.0             5.0   Extrovert   \n",
      "1                          1                  0.0             3.0   Introvert   \n",
      "2                          1                  5.0             2.0   Introvert   \n",
      "3                          0                 14.0             8.0   Extrovert   \n",
      "4                          0                  8.0             5.0   Extrovert   \n",
      "\n",
      "   Personality_encoded  \n",
      "0                    0  \n",
      "1                    1  \n",
      "2                    1  \n",
      "3                    0  \n",
      "4                    0  \n",
      "\n",
      "Final dataset shape: (2900, 9)\n"
     ]
    }
   ],
   "source": [
    "print(\"\\n=== Data Preprocessing ===\")\n",
    "\n",
    "# Handle missing values\n",
    "print(\"Handling missing values...\")\n",
    "for col in df.columns:\n",
    "    if df[col].isnull().sum() > 0:\n",
    "        if df[col].dtype in ['int64', 'float64']:\n",
    "            df[col].fillna(df[col].median(), inplace=True)\n",
    "            print(f\"Filled missing values in {col} with median: {df[col].median()}\")\n",
    "        else:\n",
    "            df[col].fillna(df[col].mode()[0], inplace=True)\n",
    "            print(f\"Filled missing values in {col} with mode: {df[col].mode()[0]}\")\n",
    "\n",
    "# Convert categorical variables\n",
    "label_encoders = {}\n",
    "categorical_cols = df.select_dtypes(include=['object']).columns.tolist()\n",
    "\n",
    "# Remove target variable from categorical columns if present\n",
    "if 'Personality' in categorical_cols:\n",
    "    categorical_cols.remove('Personality')\n",
    "\n",
    "print(f\"Categorical columns to encode: {categorical_cols}\")\n",
    "\n",
    "for col in categorical_cols:\n",
    "    le = LabelEncoder()\n",
    "    df[col] = le.fit_transform(df[col])\n",
    "    label_encoders[col] = le\n",
    "    print(f\"{col} mapping: {dict(zip(le.classes_, le.transform(le.classes_)))}\")\n",
    "\n",
    "# Encode target variable\n",
    "target_encoder = LabelEncoder()\n",
    "df['Personality_encoded'] = target_encoder.fit_transform(df['Personality'])\n",
    "print(f\"Target mapping: {dict(zip(target_encoder.classes_, target_encoder.transform(target_encoder.classes_)))}\")\n",
    "\n",
    "print(\"\\nData after preprocessing:\")\n",
    "print(df.head())\n",
    "print(f\"\\nFinal dataset shape: {df.shape}\")"
   ]
  },
  {
   "cell_type": "code",
   "execution_count": null,
   "id": "86a0b30f",
   "metadata": {},
   "outputs": [],
   "source": []
  },
  {
   "cell_type": "markdown",
   "id": "1cc00de8",
   "metadata": {},
   "source": [
    "### Exploratory Data Analysis"
   ]
  },
  {
   "cell_type": "code",
   "execution_count": 25,
   "id": "d6879890",
   "metadata": {},
   "outputs": [
    {
     "name": "stdout",
     "output_type": "stream",
     "text": [
      "\n",
      "=== Exploratory Data Analysis ===\n"
     ]
    },
    {
     "data": {
      "image/png": "[encoded data removed]",
      "text/plain": [
       "<Figure size 1000x600 with 3 Axes>"
      ]
     },
     "metadata": {},
     "output_type": "display_data"
    }
   ],
   "source": [
    "print(\"\\n=== Exploratory Data Analysis ===\")\n",
    "\n",
    "# Plot target distribution\n",
    "plt.figure(figsize=(10, 6))\n",
    "plt.subplot(1, 2, 1)\n",
    "df['Personality'].value_counts().plot(kind='bar')\n",
    "plt.title('Personality Distribution')\n",
    "plt.xlabel('Personality Type')\n",
    "plt.ylabel('Count')\n",
    "\n",
    "# Correlation heatmap\n",
    "plt.subplot(1, 2, 2)\n",
    "numeric_df = df.select_dtypes(include=[np.number])\n",
    "if 'Personality_encoded' in numeric_df.columns:\n",
    "    corr = numeric_df.corr()\n",
    "    sns.heatmap(corr, annot=True, cmap='coolwarm', center=0)\n",
    "    plt.title('Feature Correlation Heatmap')\n",
    "plt.tight_layout()\n",
    "plt.show()"
   ]
  },
  {
   "cell_type": "code",
   "execution_count": null,
   "id": "1159e161",
   "metadata": {},
   "outputs": [],
   "source": []
  },
  {
   "cell_type": "markdown",
   "id": "60281010",
   "metadata": {},
   "source": [
    "### Prepare Features and Target"
   ]
  },
  {
   "cell_type": "code",
   "execution_count": 26,
   "id": "a46de885",
   "metadata": {},
   "outputs": [
    {
     "name": "stdout",
     "output_type": "stream",
     "text": [
      "Feature columns: ['Time_spent_Alone', 'Stage_fear', 'Social_event_attendance', 'Going_outside', 'Drained_after_socializing', 'Friends_circle_size', 'Post_frequency']\n",
      "X shape: (2900, 7), y shape: (2900,)\n"
     ]
    }
   ],
   "source": [
    "# Select features (exclude target and encoded target)\n",
    "feature_columns = [col for col in df.columns if col not in ['Personality', 'Personality_encoded']]\n",
    "X = df[feature_columns]\n",
    "y = df['Personality_encoded']\n",
    "\n",
    "print(f\"Feature columns: {feature_columns}\")\n",
    "print(f\"X shape: {X.shape}, y shape: {y.shape}\")"
   ]
  },
  {
   "cell_type": "code",
   "execution_count": null,
   "id": "4484bf28",
   "metadata": {},
   "outputs": [],
   "source": []
  },
  {
   "cell_type": "markdown",
   "id": "bc78c272",
   "metadata": {},
   "source": [
    "### Split Data"
   ]
  },
  {
   "cell_type": "code",
   "execution_count": 27,
   "id": "1a7549e3",
   "metadata": {},
   "outputs": [
    {
     "name": "stdout",
     "output_type": "stream",
     "text": [
      "Training set: (2320, 7)\n",
      "Testing set: (580, 7)\n",
      "Training target distribution: 0    1193\n",
      "1    1127\n",
      "Name: Personality_encoded, dtype: int64\n",
      "Testing target distribution: 0    298\n",
      "1    282\n",
      "Name: Personality_encoded, dtype: int64\n"
     ]
    }
   ],
   "source": [
    "X_train, X_test, y_train, y_test = train_test_split(\n",
    "    X, y, test_size=0.2, random_state=42, stratify=y\n",
    ")\n",
    "\n",
    "print(f\"Training set: {X_train.shape}\")\n",
    "print(f\"Testing set: {X_test.shape}\")\n",
    "print(f\"Training target distribution: {pd.Series(y_train).value_counts()}\")\n",
    "print(f\"Testing target distribution: {pd.Series(y_test).value_counts()}\")"
   ]
  },
  {
   "cell_type": "code",
   "execution_count": null,
   "id": "9f7c6866",
   "metadata": {},
   "outputs": [],
   "source": []
  },
  {
   "cell_type": "markdown",
   "id": "ef307da2",
   "metadata": {},
   "source": [
    "### Feature Scaling"
   ]
  },
  {
   "cell_type": "code",
   "execution_count": 29,
   "id": "bc7f3980",
   "metadata": {},
   "outputs": [
    {
     "name": "stdout",
     "output_type": "stream",
     "text": [
      "Features scaled successfully!\n"
     ]
    }
   ],
   "source": [
    "scaler = StandardScaler()\n",
    "X_train_scaled = scaler.fit_transform(X_train)\n",
    "X_test_scaled = scaler.transform(X_test)\n",
    "\n",
    "print(\"Features scaled successfully!\")"
   ]
  },
  {
   "cell_type": "code",
   "execution_count": null,
   "id": "240c251e",
   "metadata": {},
   "outputs": [],
   "source": []
  },
  {
   "cell_type": "markdown",
   "id": "2aaa6f88",
   "metadata": {},
   "source": [
    "### Train Models"
   ]
  },
  {
   "cell_type": "code",
   "execution_count": 30,
   "id": "fcefb371",
   "metadata": {},
   "outputs": [
    {
     "name": "stdout",
     "output_type": "stream",
     "text": [
      "\n",
      "=== Model Training ===\n",
      "Random Forest:\n",
      "  Accuracy: 0.9034\n",
      "  CV Score: 0.9276 (+/- 0.0151)\n",
      "  Classification Report:\n",
      "              precision    recall  f1-score   support\n",
      "\n",
      "   Extrovert       0.91      0.90      0.91       298\n",
      "   Introvert       0.90      0.90      0.90       282\n",
      "\n",
      "    accuracy                           0.90       580\n",
      "   macro avg       0.90      0.90      0.90       580\n",
      "weighted avg       0.90      0.90      0.90       580\n",
      "\n",
      "Logistic Regression:\n",
      "  Accuracy: 0.9069\n",
      "  CV Score: 0.9310 (+/- 0.0131)\n",
      "  Classification Report:\n",
      "              precision    recall  f1-score   support\n",
      "\n",
      "   Extrovert       0.92      0.90      0.91       298\n",
      "   Introvert       0.89      0.92      0.91       282\n",
      "\n",
      "    accuracy                           0.91       580\n",
      "   macro avg       0.91      0.91      0.91       580\n",
      "weighted avg       0.91      0.91      0.91       580\n",
      "\n",
      "SVM:\n",
      "  Accuracy: 0.9172\n",
      "  CV Score: 0.9388 (+/- 0.0044)\n",
      "  Classification Report:\n",
      "              precision    recall  f1-score   support\n",
      "\n",
      "   Extrovert       0.94      0.90      0.92       298\n",
      "   Introvert       0.90      0.94      0.92       282\n",
      "\n",
      "    accuracy                           0.92       580\n",
      "   macro avg       0.92      0.92      0.92       580\n",
      "weighted avg       0.92      0.92      0.92       580\n",
      "\n",
      "Decision Tree:\n",
      "  Accuracy: 0.8586\n",
      "  CV Score: 0.8772 (+/- 0.0128)\n",
      "  Classification Report:\n",
      "              precision    recall  f1-score   support\n",
      "\n",
      "   Extrovert       0.88      0.85      0.86       298\n",
      "   Introvert       0.84      0.87      0.86       282\n",
      "\n",
      "    accuracy                           0.86       580\n",
      "   macro avg       0.86      0.86      0.86       580\n",
      "weighted avg       0.86      0.86      0.86       580\n",
      "\n"
     ]
    }
   ],
   "source": [
    "from sklearn.linear_model import LogisticRegression\n",
    "from sklearn.svm import SVC\n",
    "from sklearn.tree import DecisionTreeClassifier\n",
    "from sklearn.model_selection import cross_val_score\n",
    "\n",
    "\n",
    "models = {\n",
    "    'Random Forest': RandomForestClassifier(n_estimators=100, random_state=42),\n",
    "    'Logistic Regression': LogisticRegression(random_state=42),\n",
    "    'SVM': SVC(probability=True, random_state=42),  \n",
    "    'Decision Tree': DecisionTreeClassifier(random_state=42)\n",
    "}\n",
    "\n",
    "print(\"\\n=== Model Training ===\")\n",
    "results = {}\n",
    "\n",
    "for name, model in models.items():\n",
    "    # Train model\n",
    "    model.fit(X_train_scaled, y_train)\n",
    "    \n",
    "    # Predict\n",
    "    y_pred = model.predict(X_test_scaled)\n",
    "    \n",
    "    # Calculate accuracy\n",
    "    accuracy = accuracy_score(y_test, y_pred)\n",
    "    \n",
    "    # Cross-validation\n",
    "    cv_scores = cross_val_score(model, X_train_scaled, y_train, cv=5)\n",
    "    \n",
    "    results[name] = {\n",
    "        'model': model,\n",
    "        'accuracy': accuracy,\n",
    "        'cv_mean': cv_scores.mean(),\n",
    "        'cv_std': cv_scores.std()\n",
    "    }\n",
    "    \n",
    "    print(f\"{name}:\")\n",
    "    print(f\"  Accuracy: {accuracy:.4f}\")\n",
    "    print(f\"  CV Score: {cv_scores.mean():.4f} (+/- {cv_scores.std() * 2:.4f})\")\n",
    "    print(f\"  Classification Report:\")\n",
    "    print(classification_report(y_test, y_pred, target_names=target_encoder.classes_))\n"
   ]
  },
  {
   "cell_type": "code",
   "execution_count": null,
   "id": "f5869986",
   "metadata": {},
   "outputs": [],
   "source": []
  },
  {
   "cell_type": "markdown",
   "id": "ad2fb02b",
   "metadata": {},
   "source": [
    "### Best Model"
   ]
  },
  {
   "cell_type": "code",
   "execution_count": 31,
   "id": "277528d1",
   "metadata": {},
   "outputs": [
    {
     "name": "stdout",
     "output_type": "stream",
     "text": [
      "\n",
      "Best model: SVM with accuracy: 0.9172\n"
     ]
    }
   ],
   "source": [
    "best_model_name = max(results, key=lambda x: results[x]['accuracy'])\n",
    "best_model = results[best_model_name]['model']\n",
    "\n",
    "print(f\"\\nBest model: {best_model_name} with accuracy: {results[best_model_name]['accuracy']:.4f}\")"
   ]
  },
  {
   "cell_type": "code",
   "execution_count": null,
   "id": "a0f4fb5d",
   "metadata": {},
   "outputs": [],
   "source": []
  },
  {
   "cell_type": "code",
   "execution_count": null,
   "id": "a5ec5d30",
   "metadata": {},
   "outputs": [],
   "source": []
  },
  {
   "cell_type": "code",
   "execution_count": null,
   "id": "d3178f51",
   "metadata": {},
   "outputs": [],
   "source": []
  },
  {
   "cell_type": "markdown",
   "id": "88de2ed0",
   "metadata": {},
   "source": [
    "### Save Model and Preprocessing Objects"
   ]
  },
  {
   "cell_type": "code",
   "execution_count": 33,
   "id": "d89a5518",
   "metadata": {},
   "outputs": [
    {
     "name": "stdout",
     "output_type": "stream",
     "text": [
      "\n",
      "=== Saving Model ===\n",
      "Model and preprocessing objects saved successfully!\n"
     ]
    }
   ],
   "source": [
    "print(\"\\n=== Saving Model ===\")\n",
    "joblib.dump(best_model, 'personality_model.pkl')\n",
    "joblib.dump(scaler, 'scaler.pkl')\n",
    "joblib.dump(target_encoder, 'target_encoder.pkl')\n",
    "joblib.dump(label_encoders, 'label_encoders.pkl')\n",
    "joblib.dump(feature_columns, 'feature_columns.pkl')\n",
    "\n",
    "print(\"Model and preprocessing objects saved successfully!\")"
   ]
  },
  {
   "cell_type": "code",
   "execution_count": null,
   "id": "e535fc22",
   "metadata": {},
   "outputs": [],
   "source": []
  },
  {
   "cell_type": "markdown",
   "id": "1343144e",
   "metadata": {},
   "source": [
    "### Enhanced Prediction"
   ]
  },
  {
   "cell_type": "code",
   "execution_count": 34,
   "id": "3e597131",
   "metadata": {},
   "outputs": [
    {
     "name": "stdout",
     "output_type": "stream",
     "text": [
      "\n",
      "=== Testing Prediction Function ===\n",
      "Test Prediction: Extrovert\n",
      "Probabilities: {'Extrovert': 0.9439296415486286, 'Introvert': 0.05607035845137131}\n"
     ]
    }
   ],
   "source": [
    "def predict_personality(input_data):\n",
    "    \"\"\"\n",
    "    Predict personality from input data\n",
    "    Input data should be a dictionary with feature names as keys\n",
    "    \"\"\"\n",
    "    try:\n",
    "        # Load saved objects\n",
    "        model = joblib.load('personality_model.pkl')\n",
    "        scaler = joblib.load('scaler.pkl')\n",
    "        target_encoder = joblib.load('target_encoder.pkl')\n",
    "        label_encoders = joblib.load('label_encoders.pkl')\n",
    "        feature_columns = joblib.load('feature_columns.pkl')\n",
    "        \n",
    "        # Create DataFrame from input\n",
    "        input_df = pd.DataFrame([input_data])\n",
    "        \n",
    "        # Preprocess categorical variables\n",
    "        for col in input_df.columns:\n",
    "            if col in label_encoders:\n",
    "                try:\n",
    "                    input_df[col] = label_encoders[col].transform(input_df[col])\n",
    "                except ValueError as e:\n",
    "                    # Handle unseen labels by using the most common class\n",
    "                    print(f\"Warning: Unknown category '{input_df[col].iloc[0]}' in {col}. Using default value.\")\n",
    "                    input_df[col] = 0  # Use first encoded value as default\n",
    "        \n",
    "        # Ensure all feature columns are present\n",
    "        for col in feature_columns:\n",
    "            if col not in input_df.columns:\n",
    "                input_df[col] = 0  \n",
    "        \n",
    "        # Reorder columns to match training\n",
    "        input_df = input_df[feature_columns]\n",
    "        \n",
    "        # Scale features\n",
    "        input_scaled = scaler.transform(input_df)\n",
    "        \n",
    "        # Predict\n",
    "        prediction = model.predict(input_scaled)[0]\n",
    "        \n",
    "        # Get probabilities (with error handling)\n",
    "        try:\n",
    "            prediction_proba = model.predict_proba(input_scaled)[0]\n",
    "            prob_dict = {\n",
    "                target_encoder.inverse_transform([i])[0]: float(prob) \n",
    "                for i, prob in enumerate(prediction_proba)\n",
    "            }\n",
    "        except AttributeError:\n",
    "            # If model doesn't support predict_proba, create dummy probabilities\n",
    "            print(\"Warning: Model doesn't support probability predictions\")\n",
    "            classes = target_encoder.classes_\n",
    "            prob_dict = {cls: 1.0 if i == prediction else 0.0 for i, cls in enumerate(classes)}\n",
    "        \n",
    "        # Convert back to original label\n",
    "        personality = target_encoder.inverse_transform([prediction])[0]\n",
    "        \n",
    "        return personality, prob_dict\n",
    "    \n",
    "    except Exception as e:\n",
    "        print(f\"Error in prediction: {e}\")\n",
    "        return None, {}\n",
    "\n",
    "# Test the function\n",
    "print(\"\\n=== Testing Prediction Function ===\")\n",
    "test_input = {\n",
    "    'Time_spent_Alone': 4,\n",
    "    'Stage_fear': 'No',\n",
    "    'Social_event_attendance': 4,\n",
    "    'Going_outside': 6,\n",
    "    'Drained_after_socializing': 'No',\n",
    "    'Friends_circle_size': 13,\n",
    "    'Post_frequency': 5\n",
    "}\n",
    "\n",
    "prediction, probabilities = predict_personality(test_input)\n",
    "print(f\"Test Prediction: {prediction}\")\n",
    "print(f\"Probabilities: {probabilities}\")"
   ]
  },
  {
   "cell_type": "code",
   "execution_count": null,
   "id": "054daae1",
   "metadata": {},
   "outputs": [],
   "source": []
  },
  {
   "cell_type": "markdown",
   "id": "a2569a89",
   "metadata": {},
   "source": [
    "### Test with examples"
   ]
  },
  {
   "cell_type": "code",
   "execution_count": 35,
   "id": "a71fb7c6",
   "metadata": {},
   "outputs": [
    {
     "name": "stdout",
     "output_type": "stream",
     "text": [
      "\n",
      "=== Testing Multiple Examples ===\n",
      "Test Case 1: Introvert\n",
      "  Probabilities: {'Extrovert': 0.07028214878471237, 'Introvert': 0.9297178512152876}\n",
      "Test Case 2: Extrovert\n",
      "  Probabilities: {'Extrovert': 0.9410771913489476, 'Introvert': 0.058922808651052455}\n"
     ]
    }
   ],
   "source": [
    "print(\"\\n=== Testing Multiple Examples ===\")\n",
    "test_cases = [\n",
    "    {\n",
    "        'Time_spent_Alone': 9,\n",
    "        'Stage_fear': 'Yes',\n",
    "        'Social_event_attendance': 1,\n",
    "        'Going_outside': 2,\n",
    "        'Drained_after_socializing': 'Yes',\n",
    "        'Friends_circle_size': 5,\n",
    "        'Post_frequency': 2\n",
    "    },\n",
    "    {\n",
    "        'Time_spent_Alone': 0,\n",
    "        'Stage_fear': 'No', \n",
    "        'Social_event_attendance': 6,\n",
    "        'Going_outside': 7,\n",
    "        'Drained_after_socializing': 'No',\n",
    "        'Friends_circle_size': 14,\n",
    "        'Post_frequency': 8\n",
    "    }\n",
    "]\n",
    "\n",
    "for i, test_case in enumerate(test_cases):\n",
    "    pred, probs = predict_personality(test_case)\n",
    "    print(f\"Test Case {i+1}: {pred}\")\n",
    "    print(f\"  Probabilities: {probs}\")"
   ]
  },
  {
   "cell_type": "code",
   "execution_count": null,
   "id": "6c5f34d5",
   "metadata": {},
   "outputs": [],
   "source": []
  },
  {
   "cell_type": "code",
   "execution_count": null,
   "id": "132fc8d4",
   "metadata": {},
   "outputs": [],
   "source": []
  },
  {
   "cell_type": "code",
   "execution_count": null,
   "id": "6af32033",
   "metadata": {},
   "outputs": [],
   "source": []
  }
 ],
 "metadata": {
  "kernelspec": {
   "display_name": "Python 3 (ipykernel)",
   "language": "python",
   "name": "python3"
  },
  "language_info": {
   "codemirror_mode": {
    "name": "ipython",
    "version": 3
   },
   "file_extension": ".py",
   "mimetype": "text/x-python",
   "name": "python",
   "nbconvert_exporter": "python",
   "pygments_lexer": "ipython3",
   "version": "3.9.13"
  }
 },
 "nbformat": 4,
 "nbformat_minor": 5
}
